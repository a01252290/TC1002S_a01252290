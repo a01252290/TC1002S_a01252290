{
 "cells": [
  {
   "cell_type": "code",
   "execution_count": null,
   "metadata": {},
   "outputs": [],
   "source": [
    "import pandas as pd\n",
    "import numpy as np\n",
    "import matplotlib.pylab as plt"
   ]
  },
  {
   "cell_type": "code",
   "execution_count": null,
   "metadata": {},
   "outputs": [],
   "source": [
    "# Cargar el archivo de datos en un DataFrame de Pandas\n",
    "df = pd.read_csv('./titanic.csv')"
   ]
  },
  {
   "cell_type": "code",
   "execution_count": null,
   "metadata": {},
   "outputs": [],
   "source": [
    "# Mostrar el DataFrame\n",
    "df"
   ]
  },
  {
   "cell_type": "code",
   "execution_count": null,
   "metadata": {},
   "outputs": [],
   "source": [
    "print(df)"
   ]
  },
  {
   "cell_type": "code",
   "execution_count": null,
   "metadata": {},
   "outputs": [],
   "source": [
    "# Concoer el tamaño del DataFrame\n",
    "df.shape"
   ]
  },
  {
   "cell_type": "code",
   "execution_count": null,
   "metadata": {},
   "outputs": [],
   "source": [
    "# Conocer las columnas del DataFrame\n",
    "df.columns"
   ]
  },
  {
   "cell_type": "code",
   "execution_count": null,
   "metadata": {},
   "outputs": [],
   "source": [
    "# Concoer los tipos de datos del DataFrame\n",
    "df.dtypes"
   ]
  },
  {
   "cell_type": "code",
   "execution_count": null,
   "metadata": {},
   "outputs": [],
   "source": [
    "# Obtener información básica de los datos\n",
    "df.describe()"
   ]
  },
  {
   "cell_type": "code",
   "execution_count": null,
   "metadata": {},
   "outputs": [],
   "source": [
    "# Obtener descripciones de datos no numéricos\n",
    "df.describe(include='all')"
   ]
  },
  {
   "cell_type": "code",
   "execution_count": null,
   "metadata": {},
   "outputs": [],
   "source": [
    "# Eliminación de columnas del DataFrame\n",
    "df = df.drop(columns=['PassengerId', 'Name', 'Ticket', 'Cabin'])\n",
    "df"
   ]
  },
  {
   "cell_type": "code",
   "execution_count": null,
   "metadata": {},
   "outputs": [],
   "source": [
    "# Eliminar filas con valores perdidos\n",
    "df = df.dropna()\n",
    "df.shape"
   ]
  },
  {
   "cell_type": "code",
   "execution_count": null,
   "metadata": {},
   "outputs": [],
   "source": [
    "# Convertir valores categóricos a numéricos\n",
    "df['Sex'] = df['Sex'].astype('category').cat.codes\n",
    "df['Embarked'] = df['Embarked'].astype('category').cat.codes\n",
    "df"
   ]
  },
  {
   "cell_type": "code",
   "execution_count": null,
   "metadata": {},
   "outputs": [],
   "source": [
    "# Guardar el DataFrame en un archivo\n",
    "df.to_csv('./titanic_ml.csv', index=False)"
   ]
  },
  {
   "cell_type": "code",
   "execution_count": null,
   "metadata": {},
   "outputs": [],
   "source": [
    "# Función que recibe un DataFrame, una proporcion y el nombre de la clase,\n",
    "# y genera cuatro conjuntos de datos para entrenamiento\n",
    "# y pruebas del algoritmo de aprendizaje\n",
    "from sklearn.model_selection import train_test_split\n",
    "\n",
    "def split_label(df, test_size, label):\n",
    "    train, test = train_test_split(df, test_size=test_size)\n",
    "    features = df.columns.drop(label)\n",
    "    train_X = train[features]\n",
    "    train_Y = train[label]\n",
    "    test_X = test[features]\n",
    "    test_Y = test[label]\n",
    "    return train_X, train_Y, test_X, test_Y"
   ]
  },
  {
   "cell_type": "code",
   "execution_count": null,
   "metadata": {},
   "outputs": [],
   "source": [
    "# Dividir el conjunto de datos de pasajeros del Titanic\n",
    "train_X, train_Y, test_X, test_Y = split_label(df, 0.2, 'Survived')"
   ]
  },
  {
   "cell_type": "code",
   "execution_count": null,
   "metadata": {},
   "outputs": [],
   "source": [
    "# Aplicar one hot encodign a la columna \"Embarked\"\n",
    "from sklearn.preprocessing import OneHotEncoder\n",
    "\n",
    "one = OneHotEncoder(handle_unknown='ignore')\n",
    "\n",
    "result = one.fit_transform(train_X['Embarked'].values.reshape(-1, 1)).toarray()\n",
    "train_X_1 = train_X\n",
    "train_X_1[['C', 'Q', 'S']] = pd.DataFrame(result, index = train_X_1.index)\n",
    "train_X_1"
   ]
  },
  {
   "cell_type": "code",
   "execution_count": null,
   "metadata": {},
   "outputs": [],
   "source": [
    "# Aplicar escalamiento [0,1] a todos los valores\n",
    "from sklearn.preprocessing import MinMaxScaler\n",
    "min_max = MinMaxScaler()\n",
    "train_X_2 = min_max.fit_transform(train_X_1.values)\n",
    "train_X_2 = pd.DataFrame(train_X_2, columns=train_X_1.columns)\n",
    "train_X_2"
   ]
  },
  {
   "cell_type": "code",
   "execution_count": null,
   "metadata": {},
   "outputs": [],
   "source": [
    "from sklearn.svm import SVC\n",
    "clf = SVC()\n",
    "clf.fit(train_X_2, train_Y)"
   ]
  },
  {
   "cell_type": "code",
   "execution_count": null,
   "metadata": {},
   "outputs": [],
   "source": [
    "result = one.fit_transform(test_X['Embarked'].values.reshape(-1, 1)).toarray()\n",
    "test_X_1 = test_X\n",
    "test_X_1[['C', 'Q', 'S']] = pd.DataFrame(result, index = test_X_1.index)\n",
    "test_X_2 = min_max.fit_transform(test_X_1.values)\n",
    "test_X_2 = pd.DataFrame(test_X_2, columns=test_X_1.columns)\n",
    "clf.predict(test_X_2)"
   ]
  },
  {
   "cell_type": "code",
   "execution_count": null,
   "metadata": {},
   "outputs": [],
   "source": [
    "clf.score(test_X_2, test_Y)"
   ]
  },
  {
   "cell_type": "code",
   "execution_count": null,
   "metadata": {},
   "outputs": [],
   "source": [
    "from sklearn.neighbors import KNeighborsClassifier\n",
    "clf = KNeighborsClassifier()\n",
    "clf.fit(train_X_2, train_Y)\n",
    "clf.score(test_X_2, test_Y)"
   ]
  },
  {
   "cell_type": "code",
   "execution_count": null,
   "metadata": {},
   "outputs": [],
   "source": [
    "# Transformación del DataFrame original\n",
    "result = one.fit_transform(df['Embarked'].values.reshape(-1, 1)).toarray()\n",
    "df_1 = df\n",
    "df_1[['C', 'Q', 'S']] = pd.DataFrame(result, index = df_1.index)\n",
    "df_2 = min_max.fit_transform(df_1.values)\n",
    "df_2 = pd.DataFrame(df_2, columns=df_1.columns)"
   ]
  },
  {
   "cell_type": "code",
   "execution_count": null,
   "metadata": {},
   "outputs": [],
   "source": [
    "# Uso de clasificación por KMeans\n",
    "from sklearn.cluster import KMeans\n",
    "clu = KMeans(n_clusters=3)\n",
    "clu.fit(df_2)\n",
    "clu.cluster_centers_"
   ]
  },
  {
   "cell_type": "code",
   "execution_count": null,
   "metadata": {},
   "outputs": [],
   "source": [
    "clu.labels_"
   ]
  },
  {
   "cell_type": "code",
   "execution_count": null,
   "metadata": {},
   "outputs": [],
   "source": [
    "from sklearn.metrics import silhouette_score\n",
    "silhouette_score(df_2, clu.labels_)"
   ]
  },
  {
   "cell_type": "code",
   "execution_count": null,
   "metadata": {},
   "outputs": [],
   "source": [
    "from sklearn.metrics import calinski_harabasz_score\n",
    "calinski_harabasz_score(df_2, clu.labels_)"
   ]
  },
  {
   "cell_type": "code",
   "execution_count": null,
   "metadata": {},
   "outputs": [],
   "source": []
  }
 ],
 "metadata": {
  "kernelspec": {
   "display_name": "Python 3",
   "language": "python",
   "name": "python3"
  },
  "language_info": {
   "codemirror_mode": {
    "name": "ipython",
    "version": 3
   },
   "file_extension": ".py",
   "mimetype": "text/x-python",
   "name": "python",
   "nbconvert_exporter": "python",
   "pygments_lexer": "ipython3",
   "version": "3.8.5"
  }
 },
 "nbformat": 4,
 "nbformat_minor": 4
}
