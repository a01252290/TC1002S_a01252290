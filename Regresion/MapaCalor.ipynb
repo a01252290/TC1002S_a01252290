{
 "cells": [
  {
   "cell_type": "code",
   "execution_count": null,
   "metadata": {},
   "outputs": [],
   "source": [
    "# Importar librerías a utilizar\n",
    "import numpy as np\n",
    "import matplotlib.pyplot as plt \n",
    "\n",
    "import pandas as pd  \n",
    "import seaborn as sns"
   ]
  },
  {
   "cell_type": "code",
   "execution_count": null,
   "metadata": {},
   "outputs": [],
   "source": [
    "# Carga del conjunto de datos de precios de casas de Boston\n",
    "# de la librería sklearn\n",
    "from sklearn.datasets import load_boston\n",
    "boston = load_boston()\n",
    "print(boston.data.shape)\n",
    "print(boston.feature_names)"
   ]
  },
  {
   "cell_type": "code",
   "execution_count": null,
   "metadata": {},
   "outputs": [],
   "source": [
    "# Convertir el data set en DataFrame\n",
    "import pandas as pd\n",
    "df = pd.DataFrame(boston.data, columns=boston.feature_names)\n",
    "df.head()"
   ]
  },
  {
   "cell_type": "code",
   "execution_count": null,
   "metadata": {},
   "outputs": [],
   "source": [
    "# Se agrega una columna al DataFrame con el dato objetivo\n",
    "df['PRICE'] = boston.target\n",
    "df.head()"
   ]
  },
  {
   "cell_type": "code",
   "execution_count": null,
   "metadata": {},
   "outputs": [],
   "source": [
    "# Verificar si hay datos perdidos\n",
    "df.isnull().sum()"
   ]
  },
  {
   "cell_type": "code",
   "execution_count": null,
   "metadata": {},
   "outputs": [],
   "source": [
    "# Se utiliza displot de la librería seaborn para\n",
    "# un análisis preliminar\n",
    "sns.set(rc={'figure.figsize':(11.7,8.27)})\n",
    "sns.distplot(df['PRICE'], bins=30)\n",
    "plt.show()"
   ]
  },
  {
   "cell_type": "code",
   "execution_count": null,
   "metadata": {},
   "outputs": [],
   "source": [
    "# Analisis de relación de características \n",
    "# específicas con la variable dependiente\n",
    "sns.lmplot(\"PRICE\", \"LSTAT\", df)"
   ]
  },
  {
   "cell_type": "code",
   "execution_count": null,
   "metadata": {},
   "outputs": [],
   "source": [
    "# Probar un modelo de orden 2 entre\n",
    "# la variable PRICE y LSTAT\n",
    "sns.lmplot(\"PRICE\", \"LSTAT\", df, order = 2)"
   ]
  },
  {
   "cell_type": "code",
   "execution_count": null,
   "metadata": {},
   "outputs": [],
   "source": [
    "# Se obtiene una matriz de correlación\n",
    "correlation_matrix = df.corr().round(2)\n",
    "# Se usa la matriz de correlación para dibujar un mapa de calor\n",
    "# annot = True para mostrar los valores dentro del cuadro\n",
    "sns.heatmap(data=correlation_matrix, annot=True)"
   ]
  },
  {
   "cell_type": "code",
   "execution_count": null,
   "metadata": {},
   "outputs": [],
   "source": [
    "# Matriz de correlación reducida en características\n",
    "indices = [0,2,4,5,6,12]\n",
    "df2 = pd.DataFrame(boston.data[:, indices], columns = boston.feature_names[indices])\n",
    "df2['PRICE'] = boston.target\n",
    "corrmat = df2.corr()\n",
    "# Se usa la matriz de correlación para dibujar un mapa de calor\n",
    "sns.heatmap(data=corrmat, vmax = .8, annot=True, square = True)"
   ]
  },
  {
   "cell_type": "code",
   "execution_count": null,
   "metadata": {},
   "outputs": [],
   "source": [
    "# Se revisa la correlación de las variables LSTAT y RM con PRICE\n",
    "plt.figure(figsize=(20, 5))\n",
    "\n",
    "features = ['LSTAT', 'RM']\n",
    "target = df['PRICE']\n",
    "\n",
    "for i, col in enumerate(features):\n",
    "    plt.subplot(1, len(features) , i+1)\n",
    "    x = df[col]\n",
    "    y = target\n",
    "    plt.scatter(x, y, marker='o')\n",
    "    plt.title(col)\n",
    "    plt.xlabel(col)\n",
    "    plt.ylabel('PRICE')"
   ]
  },
  {
   "cell_type": "code",
   "execution_count": null,
   "metadata": {},
   "outputs": [],
   "source": [
    "# Elaboración de una matriz de gráficos de dispersión\n",
    "indices = [5,6,12]\n",
    "df2 = pd.DataFrame(boston.data[:, indices], columns=boston.feature_names[indices])\n",
    "df2['PRICE'] = boston.target\n",
    "pd.plotting.scatter_matrix(df2, figsize=(12.0, 12.0))"
   ]
  },
  {
   "cell_type": "code",
   "execution_count": null,
   "metadata": {},
   "outputs": [],
   "source": [
    "# Se preparan los datos para el entrenamiento del modelo\n",
    "# Se concatenan las variables LSTAT y RM usando np.c_\n",
    "X = pd.DataFrame(np.c_[df['LSTAT'], df['RM']], columns = ['LSTAT','RM'])\n",
    "Y = df['PRICE']"
   ]
  },
  {
   "cell_type": "code",
   "execution_count": null,
   "metadata": {},
   "outputs": [],
   "source": [
    "# Se dividen los datos en datos de entrenamiento y validación\n",
    "from sklearn.model_selection import train_test_split\n",
    "\n",
    "X_train, X_test, Y_train, Y_test = train_test_split(X, Y, test_size = 0.2, random_state=5)\n",
    "print(X_train.shape)\n",
    "print(X_test.shape)\n",
    "print(Y_train.shape)\n",
    "print(Y_test.shape)"
   ]
  },
  {
   "cell_type": "code",
   "execution_count": null,
   "metadata": {},
   "outputs": [],
   "source": [
    "# Se entrena y prueba el modelo de aprendizaje\n",
    "from sklearn.linear_model import LinearRegression\n",
    "from sklearn.metrics import mean_squared_error\n",
    "from sklearn.metrics import r2_score\n",
    "\n",
    "lin_model = LinearRegression()\n",
    "lin_model.fit(X_train, Y_train)"
   ]
  },
  {
   "cell_type": "code",
   "execution_count": null,
   "metadata": {},
   "outputs": [],
   "source": [
    "# Se evalua el modelo de entrenamiento con las medidas RMSE y R2-score\n",
    "y_train_predict = lin_model.predict(X_train)\n",
    "rmse = (np.sqrt(mean_squared_error(Y_train, y_train_predict)))\n",
    "r2 = r2_score(Y_train, y_train_predict)\n",
    "\n",
    "print('Coeficiente: ', lin_model.coef_)\n",
    "print('Interceptor: ', lin_model.intercept_)\n",
    "\n",
    "print(\"Rendimiento del modelo para el conjunto de entrenamiento\")\n",
    "print(\"--------------------------------------\")\n",
    "print('RMSE es {}'.format(rmse))\n",
    "print('R2 score es {}'.format(r2))\n",
    "print(\"\\n\")\n",
    "\n",
    "# Evaluación del modelo de prueba\n",
    "y_test_predict = lin_model.predict(X_test)\n",
    "rmse = (np.sqrt(mean_squared_error(Y_test, y_test_predict)))\n",
    "r2 = r2_score(Y_test, y_test_predict)\n",
    "\n",
    "print(\"Rendimiento del modelo para el conjunto de prueba\")\n",
    "print(\"--------------------------------------\")\n",
    "print('RMSE es {}'.format(rmse))\n",
    "print('R2 score es {}'.format(r2))"
   ]
  },
  {
   "cell_type": "code",
   "execution_count": null,
   "metadata": {},
   "outputs": [],
   "source": [
    "# Predicción de precios de datos originales y\n",
    "# comparativa con el precio real\n",
    "clf = LinearRegression ()\n",
    "clf.fit(boston.data , boston.target)\n",
    "predicted = clf.predict(boston.data)\n",
    "plt.scatter(boston.target , predicted , alpha = 0.3)\n",
    "plt.plot ([0, 50], [0, 50], '--k')\n",
    "plt.axis('tight')\n",
    "plt.xlabel('Precio real ($1000s)')\n",
    "plt.ylabel('Precio calculado ($1000s)')"
   ]
  },
  {
   "cell_type": "code",
   "execution_count": null,
   "metadata": {},
   "outputs": [],
   "source": []
  }
 ],
 "metadata": {
  "kernelspec": {
   "display_name": "Python 3",
   "language": "python",
   "name": "python3"
  },
  "language_info": {
   "codemirror_mode": {
    "name": "ipython",
    "version": 3
   },
   "file_extension": ".py",
   "mimetype": "text/x-python",
   "name": "python",
   "nbconvert_exporter": "python",
   "pygments_lexer": "ipython3",
   "version": "3.8.5"
  }
 },
 "nbformat": 4,
 "nbformat_minor": 4
}
