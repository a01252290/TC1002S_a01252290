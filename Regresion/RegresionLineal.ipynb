{
 "cells": [
  {
   "cell_type": "code",
   "execution_count": null,
   "metadata": {},
   "outputs": [],
   "source": [
    "# Importar las librerías a utilizar\n",
    "import pandas as pd\n",
    "import seaborn as sns\n",
    "sns.set_style(\"whitegrid\")\n",
    "sns.set_context(\"notebook\", font_scale=1, rc={\"lines.linewidth\": 2,'font.family': [u'times']})\n",
    "\n",
    "import matplotlib.pylab as plt\n",
    "import numpy as np"
   ]
  },
  {
   "cell_type": "code",
   "execution_count": null,
   "metadata": {},
   "outputs": [],
   "source": [
    "# Leer los datos a analizar\n",
    "ice = pd.read_csv(\"SeaIce.txt\", delim_whitespace=True)\n",
    "print('shape: ', ice.shape)\n",
    "ice.head() "
   ]
  },
  {
   "cell_type": "code",
   "execution_count": null,
   "metadata": {},
   "outputs": [],
   "source": [
    "# Observar la media negativa\n",
    "ice.mean()"
   ]
  },
  {
   "cell_type": "code",
   "execution_count": null,
   "metadata": {},
   "outputs": [],
   "source": [
    "# Visualizar datos\n",
    "x = ice.year\n",
    "y = ice.extent\n",
    "plt.scatter(x, y, color = 'red')\n",
    "plt.xlabel('Year')\n",
    "plt.ylabel('Extent')"
   ]
  },
  {
   "cell_type": "code",
   "execution_count": null,
   "metadata": {},
   "outputs": [],
   "source": [
    "# Revisar valores únicos\n",
    "print ('Valores distintos en el campo data_type:', np.unique(ice.data_type.values))"
   ]
  },
  {
   "cell_type": "code",
   "execution_count": null,
   "metadata": {},
   "outputs": [],
   "source": [
    "# Revisar tipos de datos distintos a Goddard y NRTSI-G \n",
    "print (ice[(ice.data_type != 'Goddard') & (ice.data_type != 'NRTSI-G')])"
   ]
  },
  {
   "cell_type": "code",
   "execution_count": null,
   "metadata": {},
   "outputs": [],
   "source": [
    "# Ahora se pueden limpiar los datos no esperados:\n",
    "ice2 = ice[ice.data_type != '-9999']\n",
    "print ('shape:', ice2.shape)\n",
    "# Se vuelven a graficar\n",
    "x = ice2.year\n",
    "y = ice2.extent\n",
    "plt.scatter(x, y, color = 'red')\n",
    "plt.xlabel('Month')\n",
    "plt.ylabel('Extent')"
   ]
  },
  {
   "cell_type": "code",
   "execution_count": null,
   "metadata": {},
   "outputs": [],
   "source": [
    "# Eliminar valores no deseados en el campo data type\n",
    "ice2 = ice[ice.data_type != '-9999']"
   ]
  },
  {
   "cell_type": "code",
   "execution_count": null,
   "metadata": {},
   "outputs": [],
   "source": [
    "# Se exploran relaciones lineales\n",
    "sns.lmplot(\"mo\",\"extent\", ice2)"
   ]
  },
  {
   "cell_type": "code",
   "execution_count": null,
   "metadata": {},
   "outputs": [],
   "source": [
    "# Calcular la media para cada mes\n",
    "grouped = ice2.groupby('mo')\n",
    "month_means = grouped.extent.mean()\n",
    "month_variances = grouped.extent.var()\n",
    "print ('Means:', month_means)\n",
    "print ('Variances:',month_variances)"
   ]
  },
  {
   "cell_type": "code",
   "execution_count": null,
   "metadata": {},
   "outputs": [],
   "source": [
    "# Normalización de los valores por mes con base en la media\n",
    "for i in range (12):\n",
    "    ice2.extent[ice2.mo == i+1] = 100*( ice2.extent[ice2.mo == i+1] - month_means[i+1]) /month_means.mean ()\n",
    "sns.lmplot(\"mo\", \"extent\", ice2)"
   ]
  },
  {
   "cell_type": "code",
   "execution_count": null,
   "metadata": {},
   "outputs": [],
   "source": [
    "print ('mean:', ice2.extent.mean())\n",
    "print ('var:', ice2.extent.var())"
   ]
  },
  {
   "cell_type": "code",
   "execution_count": null,
   "metadata": {},
   "outputs": [],
   "source": [
    "# Se imprime una gráfica de dispersión y un modelo de correlación lineal\n",
    "sns.lmplot(\"year\", \"extent\", ice2,size = 5.2, aspect = 2)"
   ]
  },
  {
   "cell_type": "code",
   "execution_count": null,
   "metadata": {},
   "outputs": [],
   "source": [
    "# Análisis para el mes de enero\n",
    "jan = ice2[ice2.mo == 1];\n",
    "sns.lmplot(\"year\", \"extent\", jan,size = 5.2, aspect = 2)"
   ]
  },
  {
   "cell_type": "code",
   "execution_count": null,
   "metadata": {},
   "outputs": [],
   "source": [
    "# Análisis para el mes de agosto\n",
    "aug = ice2[ice2.mo == 8]\n",
    "sns.lmplot(\"year\", \"extent\", aug,size = 5.2, aspect = 2)"
   ]
  },
  {
   "cell_type": "code",
   "execution_count": null,
   "metadata": {},
   "outputs": [],
   "source": [
    "# Usar el módulo de regresión lineal de sklearn\n",
    "from sklearn.linear_model import LinearRegression\n",
    "\n",
    "est = LinearRegression(fit_intercept = True)\n",
    "\n",
    "x = ice2[['year']]\n",
    "y = ice2[['extent']]\n",
    "\n",
    "est.fit(x, y)\n",
    "\n",
    "print (\"Coefficients:\", est.coef_)\n",
    "print (\"Intercept:\", est.intercept_)"
   ]
  },
  {
   "cell_type": "code",
   "execution_count": null,
   "metadata": {},
   "outputs": [],
   "source": [
    "from sklearn import metrics\n",
    "y_hat = est.predict(x)\n",
    "print (\"MSE:\", metrics.mean_squared_error(y_hat , y))\n",
    "print (\"R^2:\", metrics.r2_score(y_hat , y))\n",
    "print ('var:', y.var())"
   ]
  },
  {
   "cell_type": "code",
   "execution_count": null,
   "metadata": {},
   "outputs": [],
   "source": [
    "x = [[2025]]\n",
    "y_hat = est.predict(x)\n",
    "m = 1 # Enero\n",
    "y_hat = (y_hat*month_means.mean () /100) + month_means[m]\n",
    "print (\"Predicción de extensión del hielo para enero de 2025 (en millones de km cuadrados):\", y_hat)"
   ]
  },
  {
   "cell_type": "code",
   "execution_count": null,
   "metadata": {},
   "outputs": [],
   "source": []
  }
 ],
 "metadata": {
  "kernelspec": {
   "display_name": "Python 3",
   "language": "python",
   "name": "python3"
  },
  "language_info": {
   "codemirror_mode": {
    "name": "ipython",
    "version": 3
   },
   "file_extension": ".py",
   "mimetype": "text/x-python",
   "name": "python",
   "nbconvert_exporter": "python",
   "pygments_lexer": "ipython3",
   "version": "3.8.5"
  }
 },
 "nbformat": 4,
 "nbformat_minor": 4
}
