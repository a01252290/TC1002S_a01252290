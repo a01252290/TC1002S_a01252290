{
 "cells": [
  {
   "cell_type": "code",
   "execution_count": null,
   "metadata": {},
   "outputs": [],
   "source": [
    "#Leer el nombre del archivo con los datos, proporcionado por el usuario\n",
    "fname = input(\"Proporciona el nombre del archivo: \")\n",
    "archivo = open(fname, \"r\")"
   ]
  },
  {
   "cell_type": "code",
   "execution_count": null,
   "metadata": {},
   "outputs": [],
   "source": [
    "#Inicializar el total\n",
    "total = 0"
   ]
  },
  {
   "cell_type": "code",
   "execution_count": null,
   "metadata": {},
   "outputs": [],
   "source": [
    "#Leer todo el contenido del archivo\n",
    "datos = archivo.read()\n",
    "#Dividir la cadena resultante en una lista de tokens (valores) individuales\n",
    "valores = datos.split()\n",
    "#Se suman los datos contenidos en la lista de valores\n",
    "for valor in valores:\n",
    "    total = total + float(valor)"
   ]
  },
  {
   "cell_type": "code",
   "execution_count": null,
   "metadata": {},
   "outputs": [],
   "source": [
    "#Cerrar el archivo una vez finalizada la lectura\n",
    "archivo.close()"
   ]
  },
  {
   "cell_type": "code",
   "execution_count": null,
   "metadata": {},
   "outputs": [],
   "source": [
    "#Desplegar el resultado de la suma\n",
    "print(\"El total de la suma de los valores en el archivo \",fname, \" es \", total)"
   ]
  },
  {
   "cell_type": "code",
   "execution_count": null,
   "metadata": {},
   "outputs": [],
   "source": []
  }
 ],
 "metadata": {
  "kernelspec": {
   "display_name": "Python 3",
   "language": "python",
   "name": "python3"
  },
  "language_info": {
   "codemirror_mode": {
    "name": "ipython",
    "version": 3
   },
   "file_extension": ".py",
   "mimetype": "text/x-python",
   "name": "python",
   "nbconvert_exporter": "python",
   "pygments_lexer": "ipython3",
   "version": "3.8.5"
  }
 },
 "nbformat": 4,
 "nbformat_minor": 4
}
