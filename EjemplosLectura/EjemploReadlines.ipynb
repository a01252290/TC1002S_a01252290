{
 "cells": [
  {
   "cell_type": "code",
   "execution_count": 2,
   "metadata": {},
   "outputs": [
    {
     "name": "stdout",
     "output_type": "stream",
     "text": [
      "Proporciona el nombre del archivo: Numeros.csv\n"
     ]
    }
   ],
   "source": [
    "#Leer el nombre del archivo con los datos, proporcionado por el usuario\n",
    "fname = input(\"Proporciona el nombre del archivo: \")\n",
    "archivo = open(fname, \"r\")"
   ]
  },
  {
   "cell_type": "code",
   "execution_count": 3,
   "metadata": {},
   "outputs": [],
   "source": [
    "#Inicializar el total\n",
    "total = 0"
   ]
  },
  {
   "cell_type": "code",
   "execution_count": 4,
   "metadata": {},
   "outputs": [],
   "source": [
    "#Leer todas las líneas de datos del archivo\n",
    "lineas = archivo.readlines()\n",
    "#Se suman los datos recuperando cada línea de la lista de lineas\n",
    "for linea in lineas:\n",
    "    total = total + float(linea)"
   ]
  },
  {
   "cell_type": "code",
   "execution_count": 5,
   "metadata": {},
   "outputs": [],
   "source": [
    "#Cerrar el archivo una vez finalizada la lectura\n",
    "archivo.close()"
   ]
  },
  {
   "cell_type": "code",
   "execution_count": 6,
   "metadata": {},
   "outputs": [
    {
     "name": "stdout",
     "output_type": "stream",
     "text": [
      "El total de la suma de los valores en el archivo  Numeros.csv  es  25596.0\n"
     ]
    }
   ],
   "source": [
    "#Desplegar el resultado de la suma\n",
    "print(\"El total de la suma de los valores en el archivo \",fname, \" es \", total)"
   ]
  },
  {
   "cell_type": "code",
   "execution_count": null,
   "metadata": {},
   "outputs": [],
   "source": []
  }
 ],
 "metadata": {
  "kernelspec": {
   "display_name": "Python 3",
   "language": "python",
   "name": "python3"
  },
  "language_info": {
   "codemirror_mode": {
    "name": "ipython",
    "version": 3
   },
   "file_extension": ".py",
   "mimetype": "text/x-python",
   "name": "python",
   "nbconvert_exporter": "python",
   "pygments_lexer": "ipython3",
   "version": "3.8.5"
  }
 },
 "nbformat": 4,
 "nbformat_minor": 4
}
