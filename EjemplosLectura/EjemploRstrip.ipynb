{
 "cells": [
  {
   "cell_type": "code",
   "execution_count": null,
   "metadata": {},
   "outputs": [],
   "source": [
    "#Leer el nombre del archivo con los datos, proporcionado por el usuario\n",
    "fname = input(\"Proporciona el nombre del archivo: \")\n",
    "archivo = open(fname, \"r\")"
   ]
  },
  {
   "cell_type": "code",
   "execution_count": null,
   "metadata": {},
   "outputs": [],
   "source": [
    "#Inicializar el índice de línea\n",
    "indice = 1"
   ]
  },
  {
   "cell_type": "code",
   "execution_count": null,
   "metadata": {},
   "outputs": [],
   "source": [
    "#Desplegar cada línea del archivo, precedido por el número de línea\n",
    "linea = archivo.readline()\n",
    "while linea != \"\" and indice < 6:\n",
    "    #Se remueven los espacios en blanco al final de la cadena\n",
    "    linea = linea.rstrip()\n",
    "    print(\"%d: %s\" % (indice, linea))\n",
    "    \n",
    "    #Incrementar la línea y leer la siguiente línea\n",
    "    indice = indice + 1\n",
    "    linea = archivo.readline()"
   ]
  },
  {
   "cell_type": "code",
   "execution_count": null,
   "metadata": {},
   "outputs": [],
   "source": [
    "archivo.close()"
   ]
  },
  {
   "cell_type": "code",
   "execution_count": null,
   "metadata": {},
   "outputs": [],
   "source": []
  }
 ],
 "metadata": {
  "kernelspec": {
   "display_name": "Python 3",
   "language": "python",
   "name": "python3"
  },
  "language_info": {
   "codemirror_mode": {
    "name": "ipython",
    "version": 3
   },
   "file_extension": ".py",
   "mimetype": "text/x-python",
   "name": "python",
   "nbconvert_exporter": "python",
   "pygments_lexer": "ipython3",
   "version": "3.8.5"
  }
 },
 "nbformat": 4,
 "nbformat_minor": 4
}
