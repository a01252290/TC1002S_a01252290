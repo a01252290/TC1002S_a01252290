{
 "cells": [
  {
   "cell_type": "code",
   "execution_count": null,
   "metadata": {},
   "outputs": [],
   "source": [
    "import pandas as pd\n",
    "import numpy as np\n",
    "import matplotlib.pyplot as plt"
   ]
  },
  {
   "cell_type": "code",
   "execution_count": null,
   "metadata": {},
   "outputs": [],
   "source": [
    "data = {'year': [\n",
    "    2017 , 2018 , 2019 ,\n",
    "    2017 , 2018 , 2019 ,\n",
    "    2017 , 2018 , 2019\n",
    "    ],\n",
    "    'team': [\n",
    "        'America', 'America',\n",
    "        'America', 'Chivas',\n",
    "        'Chivas', 'Chivas',\n",
    "        'Pumas', 'Pumas',\n",
    "        'Pumas'\n",
    "    ],\n",
    "    'wins': [30, 28, 32, 29, 32, 26, 21, 17, 19],\n",
    "    'draws': [6, 7, 4, 5, 4, 7, 8, 10, 8],\n",
    "    'losses': [2, 3, 2, 4, 2, 5, 9, 11, 11]\n",
    "    }\n",
    "football = pd.DataFrame(data , columns = [\n",
    "    'year', 'team', 'wins', 'draws', 'losses'\n",
    "    ]\n",
    ")"
   ]
  },
  {
   "cell_type": "code",
   "execution_count": null,
   "metadata": {},
   "outputs": [],
   "source": [
    "football.to_excel(\"football.xlsx\")"
   ]
  },
  {
   "cell_type": "code",
   "execution_count": null,
   "metadata": {},
   "outputs": [],
   "source": []
  }
 ],
 "metadata": {
  "kernelspec": {
   "display_name": "Python 3",
   "language": "python",
   "name": "python3"
  },
  "language_info": {
   "codemirror_mode": {
    "name": "ipython",
    "version": 3
   },
   "file_extension": ".py",
   "mimetype": "text/x-python",
   "name": "python",
   "nbconvert_exporter": "python",
   "pygments_lexer": "ipython3",
   "version": "3.8.5"
  }
 },
 "nbformat": 4,
 "nbformat_minor": 4
}
